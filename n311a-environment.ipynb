{
 "cells": [
  {
   "cell_type": "markdown",
   "metadata": {},
   "source": [
    "<img src='https://i.imgur.com/RDAD11M.png' width = '200' align = 'right'>\n",
    "\n",
    "## *DATA SCIENCE / SECTION 3 / SPRINT 1 / NOTE 1*\n",
    "\n",
    "# 📝 Assignment\n",
    "\n",
    "# 깃헙에 패키지 만들어 올리기\n",
    "\n",
    "### 1) 깃헙 레포 생성\n",
    "\n",
    "- 깃헙에서 레포를 생성해 봅니다.\n",
    "- 로컬과 연결해 봅니다.\n",
    "- 2개 이상의 커밋을 해봅니다.\n",
    "\n",
    "> *레포 주소를 아래에 적습니다*"
   ]
  },
  {
   "cell_type": "markdown",
   "metadata": {},
   "source": [
    "https://github.com/kroonstazy/section3-w1-repo.git"
   ]
  },
  {
   "cell_type": "markdown",
   "metadata": {},
   "source": [
    "### 2) 가상환경 설정하기\n",
    "\n",
    "- 콘다를 이용해서 파이썬 3.7 이 설치된 가상환경을 만들어 봅니다.\n",
    "\n",
    "> *`% conda info --envs` 명령어가 실행된 사진을 첨부합니다*"
   ]
  },
  {
   "cell_type": "markdown",
   "metadata": {},
   "source": [
    "<img src='https://user-images.githubusercontent.com/70473564/98616665-9f27d900-2340-11eb-97bf-cd648b570886.png'>"
   ]
  },
  {
   "cell_type": "markdown",
   "metadata": {},
   "source": [
    "### 3) 계산기 패키지 만들기\n",
    "\n",
    "- 더하기, 나누기, 곱하기, 빼기 등의 기능들은 포함해야 합니다."
   ]
  },
  {
   "cell_type": "markdown",
   "metadata": {},
   "source": [
    "### 4) 🔥 도전과제\n",
    "\n",
    "- test PyPI 에 패키지를 배포해 봅니다.\n",
    "\n",
    "> *배포 주소를 아래에 적습니다*"
   ]
  },
  {
   "cell_type": "markdown",
   "metadata": {},
   "source": []
  }
 ],
 "metadata": {
  "kernelspec": {
   "display_name": "Python 3",
   "language": "python",
   "name": "python3"
  },
  "language_info": {
   "codemirror_mode": {
    "name": "ipython",
    "version": 3
   },
   "file_extension": ".py",
   "mimetype": "text/x-python",
   "name": "python",
   "nbconvert_exporter": "python",
   "pygments_lexer": "ipython3",
   "version": "3.7.7"
  }
 },
 "nbformat": 4,
 "nbformat_minor": 4
}
